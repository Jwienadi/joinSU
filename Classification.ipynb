{
  "nbformat": 4,
  "nbformat_minor": 0,
  "metadata": {
    "colab": {
      "name": "UAS_preprocessing.ipynb",
      "provenance": [],
      "collapsed_sections": []
    },
    "kernelspec": {
      "display_name": "Python 3",
      "name": "python3"
    }
  },
  "cells": [
    {
      "cell_type": "code",
      "metadata": {
        "id": "5d2xtESQNriJ",
        "colab": {
          "base_uri": "https://localhost:8080/"
        },
        "outputId": "c1ee1eac-6280-42e6-f5de-cfa7a47e65ab"
      },
      "source": [
        "from google.colab import drive\n",
        " \n",
        "# Mount folder drive (Google Drive)\n",
        "drive.mount(\"/content/drive\")"
      ],
      "execution_count": null,
      "outputs": [
        {
          "output_type": "stream",
          "text": [
            "Drive already mounted at /content/drive; to attempt to forcibly remount, call drive.mount(\"/content/drive\", force_remount=True).\n"
          ],
          "name": "stdout"
        }
      ]
    },
    {
      "cell_type": "markdown",
      "metadata": {
        "id": "Q59V0X09xnUC"
      },
      "source": [
        "**Import Library**\r\n",
        "\r\n",
        "Import semua library yang akan digunakan seperti numpy, matplotlib, pandas, seaborn, dan sklearn."
      ]
    },
    {
      "cell_type": "code",
      "metadata": {
        "id": "cn36mb5TO0DX"
      },
      "source": [
        "import numpy as np\r\n",
        "import matplotlib.pyplot as plt\r\n",
        "import pandas as pd\r\n",
        "import seaborn as sns\r\n",
        "from sklearn.naive_bayes import CategoricalNB\r\n",
        "from sklearn.metrics import confusion_matrix, accuracy_score\r\n",
        "from sklearn.model_selection import train_test_split"
      ],
      "execution_count": null,
      "outputs": []
    },
    {
      "cell_type": "markdown",
      "metadata": {
        "id": "q3ssQwmJyVjl"
      },
      "source": [
        "**Kita memasukan dataset dan mendelete kolom yg tidak perlu pada excelnya seperti timestamp**\r\n",
        "\r\n",
        "Data yang digunakan adalah primary data (hasil dari pengisian kuisioner yang telah disebar menggunakan google forms)"
      ]
    },
    {
      "cell_type": "code",
      "metadata": {
        "id": "iCg97C39QG2U"
      },
      "source": [
        "dir = \"/content/drive/MyDrive/Colab Notebooks/Survey Data Science (Responses).xlsx\"\r\n",
        "dataset = pd.read_excel(dir)\r\n",
        "del dataset['Timestamp']"
      ],
      "execution_count": null,
      "outputs": []
    },
    {
      "cell_type": "markdown",
      "metadata": {
        "id": "9cRzpOGDyiNt"
      },
      "source": [
        "Kita mengecek apakah ada data yang kembar (kedobelan ngisi saat survey/tidak). Jika terdapat nilai \"True\" berarti data tersebut duplicate."
      ]
    },
    {
      "cell_type": "code",
      "metadata": {
        "colab": {
          "base_uri": "https://localhost:8080/"
        },
        "id": "mGroHR7GZxxv",
        "outputId": "9fbb474b-e665-4829-ad6e-9171f4e58181"
      },
      "source": [
        "dataset.duplicated()"
      ],
      "execution_count": null,
      "outputs": [
        {
          "output_type": "execute_result",
          "data": {
            "text/plain": [
              "0     False\n",
              "1     False\n",
              "2     False\n",
              "3     False\n",
              "4     False\n",
              "5     False\n",
              "6     False\n",
              "7     False\n",
              "8     False\n",
              "9     False\n",
              "10    False\n",
              "11    False\n",
              "12    False\n",
              "13    False\n",
              "14    False\n",
              "15    False\n",
              "16    False\n",
              "17    False\n",
              "18    False\n",
              "19    False\n",
              "20    False\n",
              "21    False\n",
              "22    False\n",
              "23    False\n",
              "24    False\n",
              "25    False\n",
              "26    False\n",
              "27    False\n",
              "28    False\n",
              "29    False\n",
              "30    False\n",
              "31    False\n",
              "32    False\n",
              "33    False\n",
              "34    False\n",
              "35    False\n",
              "36    False\n",
              "37    False\n",
              "38    False\n",
              "39    False\n",
              "40    False\n",
              "41    False\n",
              "42    False\n",
              "43    False\n",
              "44    False\n",
              "45    False\n",
              "46    False\n",
              "47    False\n",
              "48    False\n",
              "49     True\n",
              "50    False\n",
              "51    False\n",
              "52    False\n",
              "53     True\n",
              "dtype: bool"
            ]
          },
          "metadata": {
            "tags": []
          },
          "execution_count": 68
        }
      ]
    },
    {
      "cell_type": "markdown",
      "metadata": {
        "id": "Ebds_d9myxoR"
      },
      "source": [
        "**Mengdrop data yang kembar**\r\n",
        "\r\n",
        "ada dua data yang duplicate, yaitu data ke 49 dan 53, sehingga kita drop"
      ]
    },
    {
      "cell_type": "code",
      "metadata": {
        "colab": {
          "base_uri": "https://localhost:8080/",
          "height": 200
        },
        "id": "mZlu-7GufEi-",
        "outputId": "d10771a0-7662-4af9-99be-a26a07643b9a"
      },
      "source": [
        "dataset = dataset.drop([dataset.index[49], dataset.index[53]])\n",
        "dataset.tail()"
      ],
      "execution_count": null,
      "outputs": [
        {
          "output_type": "execute_result",
          "data": {
            "text/html": [
              "<div>\n",
              "<style scoped>\n",
              "    .dataframe tbody tr th:only-of-type {\n",
              "        vertical-align: middle;\n",
              "    }\n",
              "\n",
              "    .dataframe tbody tr th {\n",
              "        vertical-align: top;\n",
              "    }\n",
              "\n",
              "    .dataframe thead th {\n",
              "        text-align: right;\n",
              "    }\n",
              "</style>\n",
              "<table border=\"1\" class=\"dataframe\">\n",
              "  <thead>\n",
              "    <tr style=\"text-align: right;\">\n",
              "      <th></th>\n",
              "      <th>Nama</th>\n",
              "      <th>Jurusan</th>\n",
              "      <th>Angkatan</th>\n",
              "      <th>IPK</th>\n",
              "      <th>Kepribadian</th>\n",
              "      <th>Lokasi</th>\n",
              "      <th>Is_ikut_kepanitiaan</th>\n",
              "      <th>Pernah_osis</th>\n",
              "      <th>Have_teman_SU</th>\n",
              "      <th>Ikut_su</th>\n",
              "    </tr>\n",
              "  </thead>\n",
              "  <tbody>\n",
              "    <tr>\n",
              "      <th>47</th>\n",
              "      <td>ted</td>\n",
              "      <td>IMT</td>\n",
              "      <td>2018</td>\n",
              "      <td>3.5 - 4</td>\n",
              "      <td>Introvert</td>\n",
              "      <td>Luar Surabaya (cth: Sidoarjo,Gresik,dll.)</td>\n",
              "      <td>Tidak</td>\n",
              "      <td>Tidak</td>\n",
              "      <td>Tidak</td>\n",
              "      <td>Tidak</td>\n",
              "    </tr>\n",
              "    <tr>\n",
              "      <th>48</th>\n",
              "      <td>David Christian</td>\n",
              "      <td>IMT</td>\n",
              "      <td>2020</td>\n",
              "      <td>Belum ada IPK</td>\n",
              "      <td>Introvert</td>\n",
              "      <td>Surabaya Timur</td>\n",
              "      <td>Ya</td>\n",
              "      <td>Tidak</td>\n",
              "      <td>Tidak</td>\n",
              "      <td>Tidak</td>\n",
              "    </tr>\n",
              "    <tr>\n",
              "      <th>50</th>\n",
              "      <td>Natasya Dahliana Lulu</td>\n",
              "      <td>IMT</td>\n",
              "      <td>2018</td>\n",
              "      <td>3.5 - 4</td>\n",
              "      <td>Introvert</td>\n",
              "      <td>Surabaya Barat</td>\n",
              "      <td>Ya</td>\n",
              "      <td>Ya</td>\n",
              "      <td>Ya</td>\n",
              "      <td>Tidak</td>\n",
              "    </tr>\n",
              "    <tr>\n",
              "      <th>51</th>\n",
              "      <td>Max</td>\n",
              "      <td>IMT</td>\n",
              "      <td>2020</td>\n",
              "      <td>Belum ada IPK</td>\n",
              "      <td>Introvert</td>\n",
              "      <td>Surabaya Barat</td>\n",
              "      <td>Ya</td>\n",
              "      <td>Tidak</td>\n",
              "      <td>Tidak</td>\n",
              "      <td>Ya</td>\n",
              "    </tr>\n",
              "    <tr>\n",
              "      <th>52</th>\n",
              "      <td>Kezia Yovita Chandra</td>\n",
              "      <td>ISB</td>\n",
              "      <td>2018</td>\n",
              "      <td>3.5 - 4</td>\n",
              "      <td>Introvert</td>\n",
              "      <td>Surabaya Barat</td>\n",
              "      <td>Ya</td>\n",
              "      <td>Tidak</td>\n",
              "      <td>Ya</td>\n",
              "      <td>Tidak</td>\n",
              "    </tr>\n",
              "  </tbody>\n",
              "</table>\n",
              "</div>"
            ],
            "text/plain": [
              "                     Nama Jurusan  Angkatan  ... Pernah_osis Have_teman_SU Ikut_su\n",
              "47                    ted     IMT      2018  ...       Tidak         Tidak   Tidak\n",
              "48        David Christian     IMT      2020  ...       Tidak         Tidak   Tidak\n",
              "50  Natasya Dahliana Lulu     IMT      2018  ...          Ya            Ya   Tidak\n",
              "51                    Max     IMT      2020  ...       Tidak         Tidak      Ya\n",
              "52   Kezia Yovita Chandra     ISB      2018  ...       Tidak            Ya   Tidak\n",
              "\n",
              "[5 rows x 10 columns]"
            ]
          },
          "metadata": {
            "tags": []
          },
          "execution_count": 69
        }
      ]
    },
    {
      "cell_type": "markdown",
      "metadata": {
        "id": "UyHjw0eNy65O"
      },
      "source": [
        "**Label encoding**\r\n",
        "\r\n",
        "data yang masih berupa kata kita ubah menjadi angka/numerik agar dapat digunakan dalam perhitungan"
      ]
    },
    {
      "cell_type": "code",
      "metadata": {
        "colab": {
          "base_uri": "https://localhost:8080/",
          "height": 200
        },
        "id": "HiaTFOcYTnik",
        "outputId": "928f2adf-dcb1-4b4f-9e77-3bea6fb46e2d"
      },
      "source": [
        "jurusan_map = {'IMT': 1, 'ISB': 2}\n",
        "dataset['Jurusan'] = dataset['Jurusan'].map(jurusan_map)\n",
        " \n",
        "angkatan_map = {2018: 1, 2019: 2, 2020:3}\n",
        "dataset['Angkatan'] = dataset['Angkatan'].map(angkatan_map)\n",
        " \n",
        "ipk_map = {'0 - 1.5': 1, '1.5 - 2': 2, '2 - 2.5':3, '2.5 - 3':4, '3 - 3.5':5, '3.5 - 4':6, 'Belum ada IPK':0}\n",
        "dataset['IPK'] = dataset['IPK'].map(ipk_map)\n",
        " \n",
        "kepribadian_map = {'Introvert': 1, 'Extrovert': 2}\n",
        "dataset['Kepribadian'] = dataset['Kepribadian'].map(kepribadian_map)\n",
        " \n",
        "lokasi_map = {'Surabaya Pusat': 1, 'Surabaya Timur': 2, 'Surabaya Selatan':3, 'Surabaya Barat':4, 'Surabaya Utara':5, 'Luar Surabaya (cth: Sidoarjo,Gresik,dll.)':0}\n",
        "dataset['Lokasi'] = dataset['Lokasi'].map(lokasi_map)\n",
        " \n",
        "kepanitiaan_map = {'Tidak': 1, 'Ya': 0}\n",
        "dataset['Is_ikut_kepanitiaan'] = dataset['Is_ikut_kepanitiaan'].map(kepanitiaan_map)\n",
        " \n",
        "osis_map = {'Tidak': 1, 'Ya': 0}\n",
        "dataset['Pernah_osis'] = dataset['Pernah_osis'].map(osis_map)\n",
        " \n",
        "teman_map = {'Tidak': 1, 'Ya': 0}\n",
        "dataset['Have_teman_SU'] = dataset['Have_teman_SU'].map(teman_map)\n",
        " \n",
        "ikut_map = {'Tidak': 1, 'Ya': 0}\n",
        "dataset['Ikut_su'] = dataset['Ikut_su'].map(ikut_map)\n",
        "\n",
        "#print data untuk melihat hasil encoding\n",
        "dataset.head()"
      ],
      "execution_count": null,
      "outputs": [
        {
          "output_type": "execute_result",
          "data": {
            "text/html": [
              "<div>\n",
              "<style scoped>\n",
              "    .dataframe tbody tr th:only-of-type {\n",
              "        vertical-align: middle;\n",
              "    }\n",
              "\n",
              "    .dataframe tbody tr th {\n",
              "        vertical-align: top;\n",
              "    }\n",
              "\n",
              "    .dataframe thead th {\n",
              "        text-align: right;\n",
              "    }\n",
              "</style>\n",
              "<table border=\"1\" class=\"dataframe\">\n",
              "  <thead>\n",
              "    <tr style=\"text-align: right;\">\n",
              "      <th></th>\n",
              "      <th>Nama</th>\n",
              "      <th>Jurusan</th>\n",
              "      <th>Angkatan</th>\n",
              "      <th>IPK</th>\n",
              "      <th>Kepribadian</th>\n",
              "      <th>Lokasi</th>\n",
              "      <th>Is_ikut_kepanitiaan</th>\n",
              "      <th>Pernah_osis</th>\n",
              "      <th>Have_teman_SU</th>\n",
              "      <th>Ikut_su</th>\n",
              "    </tr>\n",
              "  </thead>\n",
              "  <tbody>\n",
              "    <tr>\n",
              "      <th>0</th>\n",
              "      <td>Catharina Adinda Mega Cahyani</td>\n",
              "      <td>2</td>\n",
              "      <td>2</td>\n",
              "      <td>6</td>\n",
              "      <td>1</td>\n",
              "      <td>4</td>\n",
              "      <td>0</td>\n",
              "      <td>1</td>\n",
              "      <td>0</td>\n",
              "      <td>1</td>\n",
              "    </tr>\n",
              "    <tr>\n",
              "      <th>1</th>\n",
              "      <td>Eillen</td>\n",
              "      <td>2</td>\n",
              "      <td>2</td>\n",
              "      <td>6</td>\n",
              "      <td>1</td>\n",
              "      <td>4</td>\n",
              "      <td>0</td>\n",
              "      <td>1</td>\n",
              "      <td>0</td>\n",
              "      <td>1</td>\n",
              "    </tr>\n",
              "    <tr>\n",
              "      <th>2</th>\n",
              "      <td>Nicky Santano</td>\n",
              "      <td>1</td>\n",
              "      <td>2</td>\n",
              "      <td>6</td>\n",
              "      <td>2</td>\n",
              "      <td>4</td>\n",
              "      <td>0</td>\n",
              "      <td>1</td>\n",
              "      <td>0</td>\n",
              "      <td>1</td>\n",
              "    </tr>\n",
              "    <tr>\n",
              "      <th>3</th>\n",
              "      <td>Hanjaya</td>\n",
              "      <td>2</td>\n",
              "      <td>2</td>\n",
              "      <td>5</td>\n",
              "      <td>2</td>\n",
              "      <td>4</td>\n",
              "      <td>1</td>\n",
              "      <td>0</td>\n",
              "      <td>0</td>\n",
              "      <td>1</td>\n",
              "    </tr>\n",
              "    <tr>\n",
              "      <th>4</th>\n",
              "      <td>Bryan Antonnio</td>\n",
              "      <td>1</td>\n",
              "      <td>2</td>\n",
              "      <td>6</td>\n",
              "      <td>2</td>\n",
              "      <td>2</td>\n",
              "      <td>0</td>\n",
              "      <td>0</td>\n",
              "      <td>0</td>\n",
              "      <td>0</td>\n",
              "    </tr>\n",
              "  </tbody>\n",
              "</table>\n",
              "</div>"
            ],
            "text/plain": [
              "                            Nama  Jurusan  ...  Have_teman_SU  Ikut_su\n",
              "0  Catharina Adinda Mega Cahyani        2  ...              0        1\n",
              "1                         Eillen        2  ...              0        1\n",
              "2                  Nicky Santano        1  ...              0        1\n",
              "3                        Hanjaya        2  ...              0        1\n",
              "4                 Bryan Antonnio        1  ...              0        0\n",
              "\n",
              "[5 rows x 10 columns]"
            ]
          },
          "metadata": {
            "tags": []
          },
          "execution_count": 70
        }
      ]
    },
    {
      "cell_type": "markdown",
      "metadata": {
        "id": "wxrkCFIc0jc8"
      },
      "source": [
        "**Mendelete kolom yang tidak perlu lagi**\r\n",
        "\r\n",
        "kolom nama telah selesai digunakan untuk pengecekan data duplikat dan sekarang tidak digunakan lagi sehingga kita delete"
      ]
    },
    {
      "cell_type": "code",
      "metadata": {
        "id": "Xi91ip0TZuXZ"
      },
      "source": [
        "del dataset['Nama']"
      ],
      "execution_count": null,
      "outputs": []
    },
    {
      "cell_type": "markdown",
      "metadata": {
        "id": "EF5HFjVQ0tbB"
      },
      "source": [
        " Untuk mengetahui data kita jadinya berapa baris dan kolomnya. Total atributenya ada 9, jumlah datanya ada 52 (dari responden kuisionernya)"
      ]
    },
    {
      "cell_type": "code",
      "metadata": {
        "colab": {
          "base_uri": "https://localhost:8080/"
        },
        "id": "Wlt40rxIVDwb",
        "outputId": "ae51040f-7615-4c1b-8151-5b8f6a287b57"
      },
      "source": [
        "#jumlah baris dan kolom\r\n",
        "dataset.shape"
      ],
      "execution_count": null,
      "outputs": [
        {
          "output_type": "execute_result",
          "data": {
            "text/plain": [
              "(52, 9)"
            ]
          },
          "metadata": {
            "tags": []
          },
          "execution_count": 72
        }
      ]
    },
    {
      "cell_type": "markdown",
      "metadata": {
        "id": "CtGqH7HUcxaf"
      },
      "source": [
        "Memastikan tidak ada data yang kosong / null"
      ]
    },
    {
      "cell_type": "code",
      "metadata": {
        "colab": {
          "base_uri": "https://localhost:8080/"
        },
        "id": "wGQL8ENH-Y_o",
        "outputId": "547c5727-9064-41b5-cd78-95d4e6331aad"
      },
      "source": [
        "dataset.info()"
      ],
      "execution_count": null,
      "outputs": [
        {
          "output_type": "stream",
          "text": [
            "<class 'pandas.core.frame.DataFrame'>\n",
            "Int64Index: 52 entries, 0 to 52\n",
            "Data columns (total 9 columns):\n",
            " #   Column               Non-Null Count  Dtype\n",
            "---  ------               --------------  -----\n",
            " 0   Jurusan              52 non-null     int64\n",
            " 1   Angkatan             52 non-null     int64\n",
            " 2   IPK                  52 non-null     int64\n",
            " 3   Kepribadian          52 non-null     int64\n",
            " 4   Lokasi               52 non-null     int64\n",
            " 5   Is_ikut_kepanitiaan  52 non-null     int64\n",
            " 6   Pernah_osis          52 non-null     int64\n",
            " 7   Have_teman_SU        52 non-null     int64\n",
            " 8   Ikut_su              52 non-null     int64\n",
            "dtypes: int64(9)\n",
            "memory usage: 4.1 KB\n"
          ],
          "name": "stdout"
        }
      ]
    },
    {
      "cell_type": "markdown",
      "metadata": {
        "id": "Zh18r2fO5BuF"
      },
      "source": [
        "**Descriptive Analysis**\r\n",
        "\r\n",
        "Melihat analisis central tendency nya seperti standard deviation, mean, median, dll"
      ]
    },
    {
      "cell_type": "code",
      "metadata": {
        "colab": {
          "base_uri": "https://localhost:8080/",
          "height": 291
        },
        "id": "JIdoNcBv_KK0",
        "outputId": "ea3602f9-4682-47ff-99c2-f43e842a7a4b"
      },
      "source": [
        "dataset.describe()"
      ],
      "execution_count": null,
      "outputs": [
        {
          "output_type": "execute_result",
          "data": {
            "text/html": [
              "<div>\n",
              "<style scoped>\n",
              "    .dataframe tbody tr th:only-of-type {\n",
              "        vertical-align: middle;\n",
              "    }\n",
              "\n",
              "    .dataframe tbody tr th {\n",
              "        vertical-align: top;\n",
              "    }\n",
              "\n",
              "    .dataframe thead th {\n",
              "        text-align: right;\n",
              "    }\n",
              "</style>\n",
              "<table border=\"1\" class=\"dataframe\">\n",
              "  <thead>\n",
              "    <tr style=\"text-align: right;\">\n",
              "      <th></th>\n",
              "      <th>Jurusan</th>\n",
              "      <th>Angkatan</th>\n",
              "      <th>IPK</th>\n",
              "      <th>Kepribadian</th>\n",
              "      <th>Lokasi</th>\n",
              "      <th>Is_ikut_kepanitiaan</th>\n",
              "      <th>Pernah_osis</th>\n",
              "      <th>Have_teman_SU</th>\n",
              "      <th>Ikut_su</th>\n",
              "    </tr>\n",
              "  </thead>\n",
              "  <tbody>\n",
              "    <tr>\n",
              "      <th>count</th>\n",
              "      <td>52.000000</td>\n",
              "      <td>52.000000</td>\n",
              "      <td>52.000000</td>\n",
              "      <td>52.000000</td>\n",
              "      <td>52.000000</td>\n",
              "      <td>52.000000</td>\n",
              "      <td>52.000000</td>\n",
              "      <td>52.000000</td>\n",
              "      <td>52.000000</td>\n",
              "    </tr>\n",
              "    <tr>\n",
              "      <th>mean</th>\n",
              "      <td>1.384615</td>\n",
              "      <td>2.096154</td>\n",
              "      <td>4.019231</td>\n",
              "      <td>1.326923</td>\n",
              "      <td>2.942308</td>\n",
              "      <td>0.326923</td>\n",
              "      <td>0.653846</td>\n",
              "      <td>0.307692</td>\n",
              "      <td>0.634615</td>\n",
              "    </tr>\n",
              "    <tr>\n",
              "      <th>std</th>\n",
              "      <td>0.491251</td>\n",
              "      <td>0.747797</td>\n",
              "      <td>2.740333</td>\n",
              "      <td>0.473665</td>\n",
              "      <td>1.589345</td>\n",
              "      <td>0.473665</td>\n",
              "      <td>0.480384</td>\n",
              "      <td>0.466041</td>\n",
              "      <td>0.486236</td>\n",
              "    </tr>\n",
              "    <tr>\n",
              "      <th>min</th>\n",
              "      <td>1.000000</td>\n",
              "      <td>1.000000</td>\n",
              "      <td>0.000000</td>\n",
              "      <td>1.000000</td>\n",
              "      <td>0.000000</td>\n",
              "      <td>0.000000</td>\n",
              "      <td>0.000000</td>\n",
              "      <td>0.000000</td>\n",
              "      <td>0.000000</td>\n",
              "    </tr>\n",
              "    <tr>\n",
              "      <th>25%</th>\n",
              "      <td>1.000000</td>\n",
              "      <td>2.000000</td>\n",
              "      <td>0.000000</td>\n",
              "      <td>1.000000</td>\n",
              "      <td>2.000000</td>\n",
              "      <td>0.000000</td>\n",
              "      <td>0.000000</td>\n",
              "      <td>0.000000</td>\n",
              "      <td>0.000000</td>\n",
              "    </tr>\n",
              "    <tr>\n",
              "      <th>50%</th>\n",
              "      <td>1.000000</td>\n",
              "      <td>2.000000</td>\n",
              "      <td>6.000000</td>\n",
              "      <td>1.000000</td>\n",
              "      <td>4.000000</td>\n",
              "      <td>0.000000</td>\n",
              "      <td>1.000000</td>\n",
              "      <td>0.000000</td>\n",
              "      <td>1.000000</td>\n",
              "    </tr>\n",
              "    <tr>\n",
              "      <th>75%</th>\n",
              "      <td>2.000000</td>\n",
              "      <td>3.000000</td>\n",
              "      <td>6.000000</td>\n",
              "      <td>2.000000</td>\n",
              "      <td>4.000000</td>\n",
              "      <td>1.000000</td>\n",
              "      <td>1.000000</td>\n",
              "      <td>1.000000</td>\n",
              "      <td>1.000000</td>\n",
              "    </tr>\n",
              "    <tr>\n",
              "      <th>max</th>\n",
              "      <td>2.000000</td>\n",
              "      <td>3.000000</td>\n",
              "      <td>6.000000</td>\n",
              "      <td>2.000000</td>\n",
              "      <td>5.000000</td>\n",
              "      <td>1.000000</td>\n",
              "      <td>1.000000</td>\n",
              "      <td>1.000000</td>\n",
              "      <td>1.000000</td>\n",
              "    </tr>\n",
              "  </tbody>\n",
              "</table>\n",
              "</div>"
            ],
            "text/plain": [
              "         Jurusan   Angkatan        IPK  ...  Pernah_osis  Have_teman_SU    Ikut_su\n",
              "count  52.000000  52.000000  52.000000  ...    52.000000      52.000000  52.000000\n",
              "mean    1.384615   2.096154   4.019231  ...     0.653846       0.307692   0.634615\n",
              "std     0.491251   0.747797   2.740333  ...     0.480384       0.466041   0.486236\n",
              "min     1.000000   1.000000   0.000000  ...     0.000000       0.000000   0.000000\n",
              "25%     1.000000   2.000000   0.000000  ...     0.000000       0.000000   0.000000\n",
              "50%     1.000000   2.000000   6.000000  ...     1.000000       0.000000   1.000000\n",
              "75%     2.000000   3.000000   6.000000  ...     1.000000       1.000000   1.000000\n",
              "max     2.000000   3.000000   6.000000  ...     1.000000       1.000000   1.000000\n",
              "\n",
              "[8 rows x 9 columns]"
            ]
          },
          "metadata": {
            "tags": []
          },
          "execution_count": 74
        }
      ]
    },
    {
      "cell_type": "markdown",
      "metadata": {
        "id": "PRkqkM2e5e-r"
      },
      "source": [
        "**Membuat heatmap**\r\n",
        "\r\n",
        "korelasi paling tinggi ada di attribute angkatan dan have_teman_su (korelasi positif) dan pada IPK dan have_teman_su (korelasi negatif)"
      ]
    },
    {
      "cell_type": "code",
      "metadata": {
        "colab": {
          "base_uri": "https://localhost:8080/",
          "height": 373
        },
        "id": "qSOx6Uyk_R3S",
        "outputId": "81226b66-d315-4fe5-f4c9-5230dbb0acb6"
      },
      "source": [
        "dcorr=dataset.corr()\r\n",
        "sns.heatmap(dcorr,annot=True,center=0,cmap=\"RdBu\",vmin=-1,vmax=1)"
      ],
      "execution_count": null,
      "outputs": [
        {
          "output_type": "execute_result",
          "data": {
            "text/plain": [
              "<matplotlib.axes._subplots.AxesSubplot at 0x7f6c4ebffd30>"
            ]
          },
          "metadata": {
            "tags": []
          },
          "execution_count": 75
        },
        {
          "output_type": "display_data",
          "data": {
            "image/png": "[encoded data removed]",
            "text/plain": [
              "<Figure size 432x288 with 2 Axes>"
            ]
          },
          "metadata": {
            "tags": [],
            "needs_background": "light"
          }
        }
      ]
    },
    {
      "cell_type": "markdown",
      "metadata": {
        "id": "HGG2ydn3eyhc"
      },
      "source": [
        "**Menghitung variance**"
      ]
    },
    {
      "cell_type": "code",
      "metadata": {
        "colab": {
          "base_uri": "https://localhost:8080/"
        },
        "id": "gNOUBrdylIpo",
        "outputId": "c923fe97-1e60-48ca-8c81-68735393130b"
      },
      "source": [
        "dataset.var()"
      ],
      "execution_count": null,
      "outputs": [
        {
          "output_type": "execute_result",
          "data": {
            "text/plain": [
              "Jurusan                0.241327\n",
              "Angkatan               0.559201\n",
              "IPK                    7.509427\n",
              "Kepribadian            0.224359\n",
              "Lokasi                 2.526018\n",
              "Is_ikut_kepanitiaan    0.224359\n",
              "Pernah_osis            0.230769\n",
              "Have_teman_SU          0.217195\n",
              "Ikut_su                0.236425\n",
              "dtype: float64"
            ]
          },
          "metadata": {
            "tags": []
          },
          "execution_count": 76
        }
      ]
    },
    {
      "cell_type": "markdown",
      "metadata": {
        "id": "m5J3Wq5K6ly5"
      },
      "source": [
        "**Perbandingan target value, ikut SU dan tidak ikut SU**\r\n",
        "\r\n",
        "Dihitung dan dibuat visualisasi menggunakan bar chart untuk memudahkan melihat perbandingannya"
      ]
    },
    {
      "cell_type": "code",
      "metadata": {
        "colab": {
          "base_uri": "https://localhost:8080/",
          "height": 427
        },
        "id": "jnFhy7rSwZXX",
        "outputId": "83f7dce8-a57e-4b77-ed94-223972d180dd"
      },
      "source": [
        "# Join SU Count\r\n",
        "print('Target Variable')\r\n",
        "print(dataset['Ikut_su'].value_counts())\r\n",
        "\r\n",
        "# Target Variable Countplot\r\n",
        "sns.countplot(dataset['Ikut_su'])\r\n",
        "plt.title('Will Join SU vs Will Not Join SU')\r\n",
        "plt.ylabel('Student')\r\n",
        "plt.show()\r\n"
      ],
      "execution_count": null,
      "outputs": [
        {
          "output_type": "stream",
          "text": [
            "Target Variable\n",
            "1    33\n",
            "0    19\n",
            "Name: Ikut_su, dtype: int64\n"
          ],
          "name": "stdout"
        },
        {
          "output_type": "stream",
          "text": [
            "/usr/local/lib/python3.6/dist-packages/seaborn/_decorators.py:43: FutureWarning: Pass the following variable as a keyword arg: x. From version 0.12, the only valid positional argument will be `data`, and passing other arguments without an explicit keyword will result in an error or misinterpretation.\n",
            "  FutureWarning\n"
          ],
          "name": "stderr"
        },
        {
          "output_type": "display_data",
          "data": {
            "image/png": "[encoded data removed]",
            "text/plain": [
              "<Figure size 432x288 with 1 Axes>"
            ]
          },
          "metadata": {
            "tags": [],
            "needs_background": "light"
          }
        }
      ]
    },
    {
      "cell_type": "markdown",
      "metadata": {
        "id": "gk50Iqd56zYP"
      },
      "source": [
        " **Visualisasi per attribute nya (jurusan, angkatan, dll)**\r\n",
        "\r\n",
        " Dihitung dan dibuat visualisasi menggunakan bar chart untuk memudahkan melihat perbandingan jumlah masing-masing data dari setiap atribut"
      ]
    },
    {
      "cell_type": "code",
      "metadata": {
        "colab": {
          "base_uri": "https://localhost:8080/",
          "height": 1000
        },
        "id": "xxLtRnn5zUg7",
        "outputId": "2cdd46a7-6d38-4716-ee32-f777ad984cf9"
      },
      "source": [
        "#melihat jumlah dari masing-masing data setiap atribut\r\n",
        "\r\n",
        "print(dataset['Jurusan'].value_counts())\r\n",
        "print(\"--------------\")\r\n",
        "print(dataset['Angkatan'].value_counts())\r\n",
        "print(\"--------------\")\r\n",
        "print(dataset['IPK'].value_counts())\r\n",
        "print(\"--------------\")\r\n",
        "print(dataset['Kepribadian'].value_counts())\r\n",
        "print(\"--------------\")\r\n",
        "print(dataset['Lokasi'].value_counts())\r\n",
        "print(\"--------------\")\r\n",
        "print(dataset['Is_ikut_kepanitiaan'].value_counts())\r\n",
        "print(\"--------------\")\r\n",
        "print(dataset['Pernah_osis'].value_counts())\r\n",
        "print(\"--------------\")\r\n",
        "print(dataset['Have_teman_SU'].value_counts())\r\n",
        "\r\n",
        "#visualisasi\r\n",
        "\r\n",
        "sns.countplot(dataset['Jurusan'])\r\n",
        "plt.title('Jurusan')\r\n",
        "plt.ylabel('Student')\r\n",
        "plt.show()\r\n",
        "\r\n",
        "sns.countplot(dataset['Angkatan'])\r\n",
        "plt.title('Angkatan')\r\n",
        "plt.ylabel('Student')\r\n",
        "plt.show()\r\n",
        "\r\n",
        "sns.countplot(dataset['IPK'])\r\n",
        "plt.title('IPK')\r\n",
        "plt.ylabel('Student')\r\n",
        "plt.show()\r\n",
        "\r\n",
        "sns.countplot(dataset['Kepribadian'])\r\n",
        "plt.title('Kepribadian')\r\n",
        "plt.ylabel('Student')\r\n",
        "plt.show()\r\n",
        "\r\n",
        "sns.countplot(dataset['Lokasi'])\r\n",
        "plt.title('Lokasi')\r\n",
        "plt.ylabel('Student')\r\n",
        "plt.show()\r\n",
        "\r\n",
        "sns.countplot(dataset['Is_ikut_kepanitiaan'])\r\n",
        "plt.title('Sedang Ikut Kepanitiaan?')\r\n",
        "plt.ylabel('Student')\r\n",
        "plt.show()\r\n",
        "\r\n",
        "sns.countplot(dataset['Pernah_osis'])\r\n",
        "plt.title('Pernah Osis?')\r\n",
        "plt.ylabel('Student')\r\n",
        "plt.show()\r\n",
        "\r\n",
        "sns.countplot(dataset['Have_teman_SU'])\r\n",
        "plt.title('Punya Teman Dekat SU?')\r\n",
        "plt.ylabel('Student')\r\n",
        "plt.show()\r\n"
      ],
      "execution_count": null,
      "outputs": [
        {
          "output_type": "stream",
          "text": [
            "1    32\n",
            "2    20\n",
            "Name: Jurusan, dtype: int64\n",
            "--------------\n",
            "2    23\n",
            "3    17\n",
            "1    12\n",
            "Name: Angkatan, dtype: int64\n",
            "--------------\n",
            "6    31\n",
            "0    16\n",
            "5     3\n",
            "4     2\n",
            "Name: IPK, dtype: int64\n",
            "--------------\n",
            "1    35\n",
            "2    17\n",
            "Name: Kepribadian, dtype: int64\n",
            "--------------\n",
            "4    32\n",
            "0     8\n",
            "2     5\n",
            "1     4\n",
            "3     2\n",
            "5     1\n",
            "Name: Lokasi, dtype: int64\n",
            "--------------\n",
            "0    35\n",
            "1    17\n",
            "Name: Is_ikut_kepanitiaan, dtype: int64\n",
            "--------------\n",
            "1    34\n",
            "0    18\n",
            "Name: Pernah_osis, dtype: int64\n",
            "--------------\n",
            "0    36\n",
            "1    16\n",
            "Name: Have_teman_SU, dtype: int64\n"
          ],
          "name": "stdout"
        },
        {
          "output_type": "stream",
          "text": [
            "/usr/local/lib/python3.6/dist-packages/seaborn/_decorators.py:43: FutureWarning: Pass the following variable as a keyword arg: x. From version 0.12, the only valid positional argument will be `data`, and passing other arguments without an explicit keyword will result in an error or misinterpretation.\n",
            "  FutureWarning\n"
          ],
          "name": "stderr"
        },
        {
          "output_type": "display_data",
          "data": {
            "image/png": "[encoded data removed]",
            "text/plain": [
              "<Figure size 432x288 with 1 Axes>"
            ]
          },
          "metadata": {
            "tags": [],
            "needs_background": "light"
          }
        },
        {
          "output_type": "stream",
          "text": [
            "/usr/local/lib/python3.6/dist-packages/seaborn/_decorators.py:43: FutureWarning: Pass the following variable as a keyword arg: x. From version 0.12, the only valid positional argument will be `data`, and passing other arguments without an explicit keyword will result in an error or misinterpretation.\n",
            "  FutureWarning\n"
          ],
          "name": "stderr"
        },
        {
          "output_type": "display_data",
          "data": {
            "image/png": "[encoded data removed]",
            "text/plain": [
              "<Figure size 432x288 with 1 Axes>"
            ]
          },
          "metadata": {
            "tags": [],
            "needs_background": "light"
          }
        },
        {
          "output_type": "stream",
          "text": [
            "/usr/local/lib/python3.6/dist-packages/seaborn/_decorators.py:43: FutureWarning: Pass the following variable as a keyword arg: x. From version 0.12, the only valid positional argument will be `data`, and passing other arguments without an explicit keyword will result in an error or misinterpretation.\n",
            "  FutureWarning\n"
          ],
          "name": "stderr"
        },
        {
          "output_type": "display_data",
          "data": {
            "image/png": "[encoded data removed]",
            "text/plain": [
              "<Figure size 432x288 with 1 Axes>"
            ]
          },
          "metadata": {
            "tags": [],
            "needs_background": "light"
          }
        },
        {
          "output_type": "stream",
          "text": [
            "/usr/local/lib/python3.6/dist-packages/seaborn/_decorators.py:43: FutureWarning: Pass the following variable as a keyword arg: x. From version 0.12, the only valid positional argument will be `data`, and passing other arguments without an explicit keyword will result in an error or misinterpretation.\n",
            "  FutureWarning\n"
          ],
          "name": "stderr"
        },
        {
          "output_type": "display_data",
          "data": {
            "image/png": "[encoded data removed]",
            "text/plain": [
              "<Figure size 432x288 with 1 Axes>"
            ]
          },
          "metadata": {
            "tags": [],
            "needs_background": "light"
          }
        },
        {
          "output_type": "stream",
          "text": [
            "/usr/local/lib/python3.6/dist-packages/seaborn/_decorators.py:43: FutureWarning: Pass the following variable as a keyword arg: x. From version 0.12, the only valid positional argument will be `data`, and passing other arguments without an explicit keyword will result in an error or misinterpretation.\n",
            "  FutureWarning\n"
          ],
          "name": "stderr"
        },
        {
          "output_type": "display_data",
          "data": {
            "image/png": "[encoded data removed]",
            "text/plain": [
              "<Figure size 432x288 with 1 Axes>"
            ]
          },
          "metadata": {
            "tags": [],
            "needs_background": "light"
          }
        },
        {
          "output_type": "stream",
          "text": [
            "/usr/local/lib/python3.6/dist-packages/seaborn/_decorators.py:43: FutureWarning: Pass the following variable as a keyword arg: x. From version 0.12, the only valid positional argument will be `data`, and passing other arguments without an explicit keyword will result in an error or misinterpretation.\n",
            "  FutureWarning\n"
          ],
          "name": "stderr"
        },
        {
          "output_type": "display_data",
          "data": {
            "image/png": "[encoded data removed]",
            "text/plain": [
              "<Figure size 432x288 with 1 Axes>"
            ]
          },
          "metadata": {
            "tags": [],
            "needs_background": "light"
          }
        },
        {
          "output_type": "stream",
          "text": [
            "/usr/local/lib/python3.6/dist-packages/seaborn/_decorators.py:43: FutureWarning: Pass the following variable as a keyword arg: x. From version 0.12, the only valid positional argument will be `data`, and passing other arguments without an explicit keyword will result in an error or misinterpretation.\n",
            "  FutureWarning\n"
          ],
          "name": "stderr"
        },
        {
          "output_type": "display_data",
          "data": {
            "image/png": "[encoded data removed]",
            "text/plain": [
              "<Figure size 432x288 with 1 Axes>"
            ]
          },
          "metadata": {
            "tags": [],
            "needs_background": "light"
          }
        },
        {
          "output_type": "stream",
          "text": [
            "/usr/local/lib/python3.6/dist-packages/seaborn/_decorators.py:43: FutureWarning: Pass the following variable as a keyword arg: x. From version 0.12, the only valid positional argument will be `data`, and passing other arguments without an explicit keyword will result in an error or misinterpretation.\n",
            "  FutureWarning\n"
          ],
          "name": "stderr"
        },
        {
          "output_type": "display_data",
          "data": {
            "image/png": "[encoded data removed]",
            "text/plain": [
              "<Figure size 432x288 with 1 Axes>"
            ]
          },
          "metadata": {
            "tags": [],
            "needs_background": "light"
          }
        }
      ]
    },
    {
      "cell_type": "markdown",
      "metadata": {
        "id": "BvMj_M0P_WBO"
      },
      "source": [
        "\r\n",
        "Untuk memperjelas bagaimana setiap atribut berpengaruh terhadap target, kita buat visualisasi bar plot dari setiap atribut dan dibagi berdasarkan data target akan ikut SU atau tidak ikut SU (kolom \"ikut_su\")"
      ]
    },
    {
      "cell_type": "code",
      "metadata": {
        "id": "75iQy5Ltooq6",
        "colab": {
          "base_uri": "https://localhost:8080/",
          "height": 279
        },
        "outputId": "6a46030e-dcd7-45f1-def0-59b3e8921e01"
      },
      "source": [
        "ax = sns.countplot(x=\"Jurusan\", hue=\"Ikut_su\", data=dataset)"
      ],
      "execution_count": null,
      "outputs": [
        {
          "output_type": "display_data",
          "data": {
            "image/png": "[encoded data removed]",
            "text/plain": [
              "<Figure size 432x288 with 1 Axes>"
            ]
          },
          "metadata": {
            "tags": [],
            "needs_background": "light"
          }
        }
      ]
    },
    {
      "cell_type": "code",
      "metadata": {
        "colab": {
          "base_uri": "https://localhost:8080/",
          "height": 279
        },
        "id": "_T3RYM66pEdw",
        "outputId": "478fa0f4-9e37-44f8-968d-1bde33cbfce0"
      },
      "source": [
        "ax = sns.countplot(x=\"Angkatan\", hue=\"Ikut_su\", data=dataset)"
      ],
      "execution_count": null,
      "outputs": [
        {
          "output_type": "display_data",
          "data": {
            "image/png": "[encoded data removed]",
            "text/plain": [
              "<Figure size 432x288 with 1 Axes>"
            ]
          },
          "metadata": {
            "tags": [],
            "needs_background": "light"
          }
        }
      ]
    },
    {
      "cell_type": "code",
      "metadata": {
        "id": "Vbb6I4jnpQJj",
        "colab": {
          "base_uri": "https://localhost:8080/",
          "height": 279
        },
        "outputId": "0ded32b1-9b1c-4b99-dd71-6dc52d90623a"
      },
      "source": [
        "ax = sns.countplot(x=\"IPK\", hue=\"Ikut_su\", data=dataset)"
      ],
      "execution_count": null,
      "outputs": [
        {
          "output_type": "display_data",
          "data": {
            "image/png": "[encoded data removed]",
            "text/plain": [
              "<Figure size 432x288 with 1 Axes>"
            ]
          },
          "metadata": {
            "tags": [],
            "needs_background": "light"
          }
        }
      ]
    },
    {
      "cell_type": "code",
      "metadata": {
        "colab": {
          "base_uri": "https://localhost:8080/",
          "height": 279
        },
        "id": "pHnglz1spZC0",
        "outputId": "882d0e79-c73b-4331-c1f9-8604196c6d13"
      },
      "source": [
        "ax = sns.countplot(x=\"Kepribadian\", hue=\"Ikut_su\", data=dataset)"
      ],
      "execution_count": null,
      "outputs": [
        {
          "output_type": "display_data",
          "data": {
            "image/png": "[encoded data removed]",
            "text/plain": [
              "<Figure size 432x288 with 1 Axes>"
            ]
          },
          "metadata": {
            "tags": [],
            "needs_background": "light"
          }
        }
      ]
    },
    {
      "cell_type": "code",
      "metadata": {
        "colab": {
          "base_uri": "https://localhost:8080/",
          "height": 279
        },
        "id": "7YWyIpIp5DYf",
        "outputId": "3783262b-bc5d-435a-b931-a4b53e68e0cb"
      },
      "source": [
        "ax = sns.countplot(x=\"Lokasi\", hue=\"Ikut_su\", data=dataset)"
      ],
      "execution_count": null,
      "outputs": [
        {
          "output_type": "display_data",
          "data": {
            "image/png": "[encoded data removed]",
            "text/plain": [
              "<Figure size 432x288 with 1 Axes>"
            ]
          },
          "metadata": {
            "tags": [],
            "needs_background": "light"
          }
        }
      ]
    },
    {
      "cell_type": "code",
      "metadata": {
        "colab": {
          "base_uri": "https://localhost:8080/",
          "height": 280
        },
        "id": "DuOFO7bm5HCJ",
        "outputId": "f60fdc25-ba9a-417b-928c-31aaa112fd54"
      },
      "source": [
        "ax = sns.countplot(x=\"Is_ikut_kepanitiaan\", hue=\"Ikut_su\", data=dataset)"
      ],
      "execution_count": null,
      "outputs": [
        {
          "output_type": "display_data",
          "data": {
            "image/png": "[encoded data removed]",
            "text/plain": [
              "<Figure size 432x288 with 1 Axes>"
            ]
          },
          "metadata": {
            "tags": [],
            "needs_background": "light"
          }
        }
      ]
    },
    {
      "cell_type": "code",
      "metadata": {
        "colab": {
          "base_uri": "https://localhost:8080/",
          "height": 280
        },
        "id": "DGIvxOfb5Hm-",
        "outputId": "752afe8d-7d16-43c3-805b-34f618e27d5a"
      },
      "source": [
        "ax = sns.countplot(x=\"Pernah_osis\", hue=\"Ikut_su\", data=dataset)"
      ],
      "execution_count": null,
      "outputs": [
        {
          "output_type": "display_data",
          "data": {
            "image/png": "[encoded data removed]",
            "text/plain": [
              "<Figure size 432x288 with 1 Axes>"
            ]
          },
          "metadata": {
            "tags": [],
            "needs_background": "light"
          }
        }
      ]
    },
    {
      "cell_type": "code",
      "metadata": {
        "colab": {
          "base_uri": "https://localhost:8080/",
          "height": 280
        },
        "id": "XEk3ZYPx5PTG",
        "outputId": "91555afd-8c35-4854-c695-fb609c6abe8d"
      },
      "source": [
        "ax = sns.countplot(x=\"Have_teman_SU\", hue=\"Ikut_su\", data=dataset)"
      ],
      "execution_count": null,
      "outputs": [
        {
          "output_type": "display_data",
          "data": {
            "image/png": "[encoded data removed]",
            "text/plain": [
              "<Figure size 432x288 with 1 Axes>"
            ]
          },
          "metadata": {
            "tags": [],
            "needs_background": "light"
          }
        }
      ]
    },
    {
      "cell_type": "markdown",
      "metadata": {
        "id": "VYV77MYKqGP5"
      },
      "source": [
        "**CLASSIFICATION**\r\n",
        "\r\n",
        "Metode yang digunakan adalah Naive Bayes Classifier yang merupakan metode klasifikasi dengan probabilitas dan statistik. Pembuatan model dibantu dengan libary scikit learn CategoricalNB yang dikhususkan untuk Naive Bayes bagi data yang categorical."
      ]
    },
    {
      "cell_type": "markdown",
      "metadata": {
        "id": "P93CKY1glgDU"
      },
      "source": [
        "**Data dibagi berdasarkan variabel independen dan variabel dependen**\r\n",
        "\r\n",
        "Variabel independen adalah variabel yang mempengaruhi terjadinya variabel dependen, sedangkan variabel dependen adalah variabel yang hendak kita prediksi."
      ]
    },
    {
      "cell_type": "code",
      "metadata": {
        "id": "sjv35Hahxxln"
      },
      "source": [
        "# X adalah variabel independen (kolom jurusan, angkatan, IPK, kepribadian, lokasi, is_ikut_kepanitiaan, pernah_osis, have_teman_SU)\r\n",
        "X = dataset.iloc[:, :-1].values\r\n",
        "\r\n",
        "# y adalah variabel dependen (kolom ikut_SU) \r\n",
        "y = dataset.iloc[:, -1].values\r\n",
        "\r\n",
        "\r\n",
        "#categorical data tidak perlu di normalisasi"
      ],
      "execution_count": null,
      "outputs": []
    },
    {
      "cell_type": "markdown",
      "metadata": {
        "id": "Ahz2WhUngn2x"
      },
      "source": [
        "**Split dataset menjadi data Training dan data Test**\r\n",
        "\r\n",
        "Data dibagi menjadi 84% data training dan 16% data testing"
      ]
    },
    {
      "cell_type": "code",
      "metadata": {
        "id": "HM8kL_qLvbXF"
      },
      "source": [
        "X_train, X_test, y_train, y_test = train_test_split(X, y, test_size = 0.16, random_state = 0)"
      ],
      "execution_count": null,
      "outputs": []
    },
    {
      "cell_type": "markdown",
      "metadata": {
        "id": "ZukqiNARg2w7"
      },
      "source": [
        "**Membuat model persamaan Naive Bayes berdasarkan data Training**"
      ]
    },
    {
      "cell_type": "code",
      "metadata": {
        "id": "y5koZPCox2-B",
        "colab": {
          "base_uri": "https://localhost:8080/"
        },
        "outputId": "ac534dfb-c742-433f-a95c-a368cf8c2411"
      },
      "source": [
        "clf = CategoricalNB()\r\n",
        "clf.fit(X_train, y_train)"
      ],
      "execution_count": null,
      "outputs": [
        {
          "output_type": "execute_result",
          "data": {
            "text/plain": [
              "CategoricalNB(alpha=1.0, class_prior=None, fit_prior=True)"
            ]
          },
          "metadata": {
            "tags": []
          },
          "execution_count": 162
        }
      ]
    },
    {
      "cell_type": "markdown",
      "metadata": {
        "id": "FxBm6NJ9iF_I"
      },
      "source": [
        "**Uji hasil prediksi dengan data Test**"
      ]
    },
    {
      "cell_type": "code",
      "metadata": {
        "id": "pehMd7gazIMP",
        "colab": {
          "base_uri": "https://localhost:8080/"
        },
        "outputId": "11d26c6f-0c57-4400-9e92-9012f97e2acc"
      },
      "source": [
        "y_pred = clf.predict(X_test)\r\n",
        "print(y_pred)"
      ],
      "execution_count": null,
      "outputs": [
        {
          "output_type": "stream",
          "text": [
            "[1 0 1 0 1 0 0 1 1]\n"
          ],
          "name": "stdout"
        }
      ]
    },
    {
      "cell_type": "markdown",
      "metadata": {
        "id": "_YHStgd8hO2R"
      },
      "source": [
        "**Mengukur skor akurasi dari model persamaan Naive Bayes Classifier**\r\n",
        "\r\n",
        "mencari nilai confusion matrix, yaitu true positive, true negative, false positive, false negative untuk perhitungan accuracy, precision,dan recall."
      ]
    },
    {
      "cell_type": "code",
      "metadata": {
        "id": "VBeGxM4z6UmA",
        "colab": {
          "base_uri": "https://localhost:8080/"
        },
        "outputId": "7d96f836-7c30-4f34-b94e-709554c79d8d"
      },
      "source": [
        "tn, fp, fn, tp = confusion_matrix(y_test, y_pred).ravel()\r\n",
        "print(\"True Negatives: \",tn)\r\n",
        "print(\"False Positives: \",fp)\r\n",
        "print(\"False Negatives: \",fn)\r\n",
        "print(\"True Positives: \",tp)"
      ],
      "execution_count": null,
      "outputs": [
        {
          "output_type": "stream",
          "text": [
            "True Negatives:  2\n",
            "False Positives:  1\n",
            "False Negatives:  2\n",
            "True Positives:  4\n"
          ],
          "name": "stdout"
        }
      ]
    },
    {
      "cell_type": "markdown",
      "metadata": {
        "id": "ZzCWai77JVlH"
      },
      "source": [
        "Akurasi dihitung dari berapa hasil prediksi yang benar. Sehingga kita hitung menggunakan nilai true positive dan true negative dibagi total prediksi.\r\n"
      ]
    },
    {
      "cell_type": "code",
      "metadata": {
        "id": "w7mE6XyO6hd7",
        "colab": {
          "base_uri": "https://localhost:8080/"
        },
        "outputId": "69c95b82-48ae-46cd-ee6e-4353cbc875ac"
      },
      "source": [
        "#Accuracy\r\n",
        "\r\n",
        "Accuracy = (tn+tp)*100/(tp+tn+fp+fn) \r\n",
        "print(\"Accuracy {:0.2f}%:\".format(Accuracy))"
      ],
      "execution_count": null,
      "outputs": [
        {
          "output_type": "stream",
          "text": [
            "Accuracy 66.67%:\n"
          ],
          "name": "stdout"
        }
      ]
    },
    {
      "cell_type": "markdown",
      "metadata": {
        "id": "hSQcg38AlN-N"
      },
      "source": [
        "Selain melihat nilai akurasi, pada kasus ini, kita perlu lebih memperhatikan nilai precision juga. Karena jika kita  memprediksi mahasiswa tidak ikut SU, padahal kenyataannya ikut SU (false negative) tidak akan menjadi masalah karena semakin banyak yang ikut SU semakin baik. Namun, jika kita memprediksi mahasiswa akan ikut SU, padahal kenyataannya tidak ikut SU (false positive), maka bisa mengakibatkan berbagai hal seperti contoh SU kekurangan anggota, sehingga juga susah mencari regenerasi berikutnya untuk bergabung dalam organisasi. Bisa jadi karena mahasiswa ada yang lebih tertarik untuk ikut panitia UKM/organisasi lain di luar kampus."
      ]
    },
    {
      "cell_type": "markdown",
      "metadata": {
        "id": "aR3TQhtgJXLa"
      },
      "source": [
        "precision dihitung dari perbandingan antara true positive dengan banyaknya data yang diprediksi positif"
      ]
    },
    {
      "cell_type": "code",
      "metadata": {
        "id": "ewgxUmfb6rle",
        "colab": {
          "base_uri": "https://localhost:8080/"
        },
        "outputId": "452d2cbe-7670-40a6-effa-19ee92bb6598"
      },
      "source": [
        "#Precision \r\n",
        "\r\n",
        "Precision = tp/(tp+fp) \r\n",
        "print(\"Precision {:0.2f}\".format(Precision))"
      ],
      "execution_count": null,
      "outputs": [
        {
          "output_type": "stream",
          "text": [
            "Precision 0.80\n"
          ],
          "name": "stdout"
        }
      ]
    },
    {
      "cell_type": "markdown",
      "metadata": {
        "id": "tj4NTwksJd90"
      },
      "source": [
        "recall dihitung dari perbandingan antara true positive dengan banyaknya data yang sebenarnya positif"
      ]
    },
    {
      "cell_type": "code",
      "metadata": {
        "id": "ISFgonlV6wpL",
        "colab": {
          "base_uri": "https://localhost:8080/"
        },
        "outputId": "e2ccc7b6-e217-47e4-a564-bed69ebc4bef"
      },
      "source": [
        "#Recall \r\n",
        "\r\n",
        "Recall = tp/(tp+fn) \r\n",
        "print(\"Recall {:0.2f}\".format(Recall))"
      ],
      "execution_count": null,
      "outputs": [
        {
          "output_type": "stream",
          "text": [
            "Recall 0.67\n"
          ],
          "name": "stdout"
        }
      ]
    },
    {
      "cell_type": "markdown",
      "metadata": {
        "id": "uEzkJcbNJlr7"
      },
      "source": [
        "F1 scorenya dihitung dari hasil precision dan recall. Jika bernilai mendekati 1 maka model klasifikasi kita memiliki precision dan recall yang baik."
      ]
    },
    {
      "cell_type": "code",
      "metadata": {
        "id": "WtwwrC1162KN",
        "colab": {
          "base_uri": "https://localhost:8080/"
        },
        "outputId": "8b7b196b-6054-4d9a-ecb5-bd17c44395e5"
      },
      "source": [
        "#F1 Score\r\n",
        "\r\n",
        "f1 = (2*Precision*Recall)/(Precision + Recall)\r\n",
        "print(\"F1 Score {:0.2f}\".format(f1))"
      ],
      "execution_count": null,
      "outputs": [
        {
          "output_type": "stream",
          "text": [
            "F1 Score 0.73\n"
          ],
          "name": "stdout"
        }
      ]
    }
  ]
}